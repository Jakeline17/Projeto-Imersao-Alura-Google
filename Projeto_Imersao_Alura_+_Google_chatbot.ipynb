{
  "nbformat": 4,
  "nbformat_minor": 0,
  "metadata": {
    "colab": {
      "provenance": [],
      "authorship_tag": "ABX9TyMGCj58zjTGRgR3A/8fyHxH",
      "include_colab_link": true
    },
    "kernelspec": {
      "name": "python3",
      "display_name": "Python 3"
    },
    "language_info": {
      "name": "python"
    }
  },
  "cells": [
    {
      "cell_type": "markdown",
      "metadata": {
        "id": "view-in-github",
        "colab_type": "text"
      },
      "source": [
        "<a href=\"https://colab.research.google.com/github/Jakeline17/Projeto-Imersao-Alura-Google/blob/main/Projeto_Imersao_Alura_%2B_Google_chatbot.ipynb\" target=\"_parent\"><img src=\"https://colab.research.google.com/assets/colab-badge.svg\" alt=\"Open In Colab\"/></a>"
      ]
    },
    {
      "cell_type": "code",
      "execution_count": null,
      "metadata": {
        "id": "Pl2K-B0ZOHN4"
      },
      "outputs": [],
      "source": [
        "!pip install -q -U google-generativeai"
      ]
    },
    {
      "cell_type": "code",
      "source": [
        "import google.generativeai as genai\n",
        "from google.colab import userdata\n",
        "api_key = userdata.get('SECRET_KEY')\n",
        "genai.configure(api_key=api_key)"
      ],
      "metadata": {
        "id": "JY9rEnJROUCO"
      },
      "execution_count": null,
      "outputs": []
    },
    {
      "cell_type": "code",
      "source": [
        "import google.generativeai as genai\n",
        "from google.colab import userdata\n",
        "api_key = userdata.get('SECRET_KEY')\n",
        "genai.configure(api_key=api_key)"
      ],
      "metadata": {
        "id": "y4TW5o0aOcYq"
      },
      "execution_count": null,
      "outputs": []
    },
    {
      "cell_type": "code",
      "source": [
        "generation_config = {\n",
        "  \"candidate_count\": 1,\n",
        "  \"temperature\": 0.5,\n",
        "}"
      ],
      "metadata": {
        "id": "AKdB5K6DOrSd"
      },
      "execution_count": null,
      "outputs": []
    },
    {
      "cell_type": "code",
      "source": [
        "safety_settings={\n",
        "    'HATE': 'BLOCK_NONE',\n",
        "    'HARASSMENT': 'BLOCK_NONE',\n",
        "    'SEXUAL' : 'BLOCK_NONE',\n",
        "    'DANGEROUS' : 'BLOCK_NONE'\n",
        "    }"
      ],
      "metadata": {
        "id": "LzgVKexoOwFX"
      },
      "execution_count": null,
      "outputs": []
    },
    {
      "cell_type": "code",
      "source": [
        "model = genai.GenerativeModel(model_name='gemini-1.0-pro',\n",
        "                                  generation_config=generation_config,\n",
        "                                  safety_settings=safety_settings,)"
      ],
      "metadata": {
        "id": "PK86bPB0PFTo"
      },
      "execution_count": null,
      "outputs": []
    },
    {
      "cell_type": "code",
      "source": [
        "import random\n",
        "import nltk\n",
        "from nltk.chat.util import Chat, reflections\n",
        "\n",
        "# Download NLTK packages if needed\n",
        "nltk.download('punkt')\n",
        "nltk.download('averaged_perceptron_tagger')\n",
        "\n",
        "# Define pairs of patterns and responses\n",
        "pairs = [\n",
        "    [\n",
        "        r\"Hi|Hello|Hey\",\n",
        "        [\"Hello! 😊\", \"Hi, how are you?\", \"Hey there! 👋\"]\n",
        "    ],\n",
        "    [\n",
        "        r\"What's your name?\",\n",
        "        [\"I'm an English practice chatbot. 🤖\", \"You can call me ChatBot.\"]\n",
        "    ],\n",
        "    [\n",
        "        r\"How are you\\?\",\n",
        "        [\"I'm doing well, thanks! 😊 And you?\", \"I'm ready to help you practice English!\"]\n",
        "    ],\n",
        "    [\n",
        "        r\"I am (.*)\",\n",
        "        [\"Good to hear you are %1 😊\", \"I understand... %1\"]\n",
        "    ],\n",
        "    [\n",
        "        r\"(.*) weather (.*)\",\n",
        "        [\"The weather is great for practicing English!\", \"I hope the weather is good where you are!\"]\n",
        "    ],\n",
        "    [\n",
        "        r\"(.*) (like|love|enjoy) (.*)\",\n",
        "        [\"That's great! %2 %3 too.\", \"It's good to have hobbies! 😊\"]\n",
        "    ],\n",
        "    [\n",
        "        r\"Exit|Bye|See you\",\n",
        "        [\"See you later! 👋\", \"It was nice talking to you! 😊\"]\n",
        "    ],\n",
        "]\n",
        "\n",
        "# Create chatbot\n",
        "chatbot = Chat(pairs, reflections)\n",
        "\n",
        "# Function to process user input\n",
        "def process_input(user_input):\n",
        "  tokens = nltk.word_tokenize(user_input)\n",
        "  tagged_tokens = nltk.pos_tag(tokens)\n",
        "\n",
        "  # Additional logic to interpret user input,\n",
        "  # such as identifying verbs, nouns, etc.\n",
        "  # ...\n",
        "\n",
        "  # Respond using the chatbot\n",
        "  return chatbot.respond(user_input)\n",
        "\n",
        "# Main loop\n",
        "print(\"Hello! 👋 I'm an English practice chatbot. How can I help you?\")\n",
        "while True:\n",
        "  user_input = input(\"You: \")\n",
        "  if user_input.lower() in [\"exit\", \"bye\", \"see you\"]:\n",
        "    print(\"ChatBot: See you later! 👋\")\n",
        "    break\n",
        "  else:\n",
        "    response = process_input(user_input)\n",
        "    print(\"ChatBot:\", response)"
      ],
      "metadata": {
        "colab": {
          "base_uri": "https://localhost:8080/"
        },
        "id": "duoVAOXOSX4W",
        "outputId": "57c42ea3-e3ef-45cc-db5b-7f2af26378e1"
      },
      "execution_count": null,
      "outputs": [
        {
          "output_type": "stream",
          "name": "stderr",
          "text": [
            "[nltk_data] Downloading package punkt to /root/nltk_data...\n",
            "[nltk_data]   Package punkt is already up-to-date!\n",
            "[nltk_data] Downloading package averaged_perceptron_tagger to\n",
            "[nltk_data]     /root/nltk_data...\n",
            "[nltk_data]   Package averaged_perceptron_tagger is already up-to-\n",
            "[nltk_data]       date!\n"
          ]
        },
        {
          "output_type": "stream",
          "name": "stdout",
          "text": [
            "Hello! 👋 I'm an English practice chatbot. How can I help you?\n"
          ]
        }
      ]
    },
    {
      "cell_type": "code",
      "source": [],
      "metadata": {
        "id": "iTj6NROgUQyp"
      },
      "execution_count": null,
      "outputs": []
    }
  ]
}